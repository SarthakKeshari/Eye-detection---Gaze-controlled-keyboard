{
 "cells": [
  {
   "cell_type": "code",
   "execution_count": 1,
   "metadata": {},
   "outputs": [],
   "source": [
    "import cv2\n",
    "import numpy as np\n",
    "import dlib"
   ]
  },
  {
   "cell_type": "code",
   "execution_count": null,
   "metadata": {},
   "outputs": [],
   "source": [
    "cap = cv2.VideoCapture(0)\n",
    "\n",
    "detector = dlib.get_frontal_face_detector()\n",
    "predictor = dlib.shape_predictor(\"shape_predictor_68_face_landmarks.dat\")\n",
    "\n",
    "def midpoint(p1,p2):\n",
    "    return int((p1.x+p2.x)/2) , int((p1.y+p2.y)/2)\n",
    "\n",
    "while(True):\n",
    "    _ , frame = cap.read()\n",
    "    gray = cv2.cvtColor(frame, cv2.COLOR_BGR2GRAY)\n",
    "    \n",
    "    faces = detector(gray)\n",
    "    for face in faces:\n",
    "#         face detection\n",
    "#         x,y = face.left(),face.top()\n",
    "#         x1,y1 = face.right(),face.bottom()\n",
    "#         cv2.rectangle(frame, (x,y),(x1,y1),(0,255,0),2)\n",
    "\n",
    "        landmarks = predictor(gray,face)\n",
    "#         print(landmarks.part(36)) # Position of point 36 of face landmarks\n",
    "#         x = landmarks.part(36).x\n",
    "#         y = landmarks.part(36).y\n",
    "#         cv2.circle(frame, (x,y),2,(0,0,255),2)\n",
    "\n",
    "        left_point = (landmarks.part(36).x, landmarks.part(36).y)\n",
    "        right_point = (landmarks.part(39).x, landmarks.part(39).y)\n",
    "        \n",
    "        hor_line = cv2.line(frame, left_point, right_point,(0,255,0), 2)\n",
    "        \n",
    "        center_top = midpoint(landmarks.part(37),landmarks.part(38))\n",
    "        center_bottom = midpoint(landmarks.part(41),landmarks.part(40))\n",
    "        \n",
    "        ver_line = cv2.line(frame, center_top, center_bottom ,(0,255,0), 2)\n",
    "    \n",
    "    cv2.imshow(\"Frame\",frame)\n",
    "    \n",
    "    key = cv2.waitKey(1)\n",
    "    if key == 27:\n",
    "        break\n",
    "\n",
    "cap.release()\n",
    "cv2.destroyAllWindows()"
   ]
  },
  {
   "cell_type": "code",
   "execution_count": null,
   "metadata": {},
   "outputs": [],
   "source": []
  }
 ],
 "metadata": {
  "kernelspec": {
   "display_name": "Python 3",
   "language": "python",
   "name": "python3"
  },
  "language_info": {
   "codemirror_mode": {
    "name": "ipython",
    "version": 3
   },
   "file_extension": ".py",
   "mimetype": "text/x-python",
   "name": "python",
   "nbconvert_exporter": "python",
   "pygments_lexer": "ipython3",
   "version": "3.6.13"
  }
 },
 "nbformat": 4,
 "nbformat_minor": 4
}
