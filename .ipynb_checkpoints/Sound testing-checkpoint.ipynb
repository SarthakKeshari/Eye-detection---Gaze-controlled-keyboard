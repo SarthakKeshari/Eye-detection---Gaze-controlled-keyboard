{
 "cells": [
  {
   "cell_type": "code",
   "execution_count": 7,
   "id": "517a795e",
   "metadata": {},
   "outputs": [],
   "source": [
    "import pyglet\n",
    "import time"
   ]
  },
  {
   "cell_type": "code",
   "execution_count": 8,
   "id": "24608bd4",
   "metadata": {},
   "outputs": [],
   "source": [
    "sound = pyglet.media.load(\"sound.m4a\",streaming=False)\n",
    "left_sound = pyglet.media.load(\"left.m4a\",streaming=False)\n",
    "right_sound = pyglet.media.load(\"right.m4a\",streaming=False)\n",
    "\n",
    "sound.play()\n",
    "time.sleep(1)\n",
    "sound.play()\n",
    "time.sleep(1)\n",
    "left_sound.play()\n",
    "time.sleep(1)\n",
    "right_sound.play()\n",
    "time.sleep(1)"
   ]
  },
  {
   "cell_type": "code",
   "execution_count": null,
   "id": "83f8710e",
   "metadata": {},
   "outputs": [],
   "source": []
  },
  {
   "cell_type": "code",
   "execution_count": null,
   "id": "fb13761b",
   "metadata": {},
   "outputs": [],
   "source": []
  }
 ],
 "metadata": {
  "kernelspec": {
   "display_name": "Python 3",
   "language": "python",
   "name": "python3"
  },
  "language_info": {
   "codemirror_mode": {
    "name": "ipython",
    "version": 3
   },
   "file_extension": ".py",
   "mimetype": "text/x-python",
   "name": "python",
   "nbconvert_exporter": "python",
   "pygments_lexer": "ipython3",
   "version": "3.6.13"
  }
 },
 "nbformat": 4,
 "nbformat_minor": 5
}
