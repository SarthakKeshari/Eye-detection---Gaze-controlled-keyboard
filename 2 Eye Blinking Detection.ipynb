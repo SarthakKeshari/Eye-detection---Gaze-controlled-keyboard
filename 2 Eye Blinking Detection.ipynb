{
 "cells": [
  {
   "cell_type": "code",
   "execution_count": 1,
   "id": "5c28006b",
   "metadata": {},
   "outputs": [],
   "source": [
    "import cv2\n",
    "import numpy as np\n",
    "import dlib\n",
    "from math import hypot"
   ]
  },
  {
   "cell_type": "code",
   "execution_count": 2,
   "id": "c0002c86",
   "metadata": {},
   "outputs": [],
   "source": [
    "cap = cv2.VideoCapture(0)\n",
    "\n",
    "detector = dlib.get_frontal_face_detector()\n",
    "predictor = dlib.shape_predictor(\"shape_predictor_68_face_landmarks.dat\")\n",
    "\n",
    "def midpoint(p1,p2):\n",
    "    return int((p1.x+p2.x)/2) , int((p1.y+p2.y)/2)\n",
    "\n",
    "font = cv2.FONT_HERSHEY_SIMPLEX\n",
    "\n",
    "def get_blinking_ratio(eye_points, facial_landmarks):\n",
    "    left_point = (facial_landmarks.part(eye_points[0]).x, facial_landmarks.part(eye_points[0]).y)\n",
    "    right_point = (facial_landmarks.part(eye_points[3]).x, facial_landmarks.part(eye_points[3]).y)\n",
    "\n",
    "    hor_line = cv2.line(frame, left_point, right_point,(0,255,0), 2)\n",
    "\n",
    "    center_top = midpoint(facial_landmarks.part(eye_points[1]),facial_landmarks.part(eye_points[2]))\n",
    "    center_bottom = midpoint(facial_landmarks.part(eye_points[5]),facial_landmarks.part(eye_points[4]))\n",
    "\n",
    "    ver_line = cv2.line(frame, center_top, center_bottom ,(0,255,0), 2)\n",
    "\n",
    "    #Checking length of horizontal and vertical lines\n",
    "    ver_line_length = hypot((center_top[0]-center_bottom[0]),(center_top[1]-center_bottom[1]))\n",
    "    hor_line_length = hypot((left_point[0]-right_point[0]),(left_point[1]-right_point[1]))\n",
    "        \n",
    "    ratio = hor_line_length/ver_line_length\n",
    "    return ratio\n",
    "\n",
    "\n",
    "while(True):\n",
    "    _ , frame = cap.read()\n",
    "    gray = cv2.cvtColor(frame, cv2.COLOR_BGR2GRAY)\n",
    "    \n",
    "    faces = detector(gray)\n",
    "    for face in faces:\n",
    "#         face detection\n",
    "#         x,y = face.left(),face.top()\n",
    "#         x1,y1 = face.right(),face.bottom()\n",
    "#         cv2.rectangle(frame, (x,y),(x1,y1),(0,255,0),2)\n",
    "\n",
    "        landmarks = predictor(gray,face)\n",
    "#         print(landmarks.part(36)) # Position of point 36 of face landmarks\n",
    "#         x = landmarks.part(36).x\n",
    "#         y = landmarks.part(36).y\n",
    "#         cv2.circle(frame, (x,y),2,(0,0,255),2)\n",
    "\n",
    "        left_eye_ratio = get_blinking_ratio([36,37,38,39,40,41], landmarks)\n",
    "        right_eye_ratio = get_blinking_ratio([42,43,44,45,46,47], landmarks)\n",
    "        \n",
    "        blinking_ratio = (left_eye_ratio + right_eye_ratio)/2\n",
    "        \n",
    "        if(blinking_ratio>5.0):\n",
    "            cv2.putText(frame, \"BLINKING\" , (50,150), font, 3, (255,0,0))\n",
    "        \n",
    "    cv2.imshow(\"Frame\",frame)\n",
    "    \n",
    "    key = cv2.waitKey(1)\n",
    "    if key == 27:\n",
    "        break\n",
    "\n",
    "cap.release()\n",
    "cv2.destroyAllWindows()"
   ]
  }
 ],
 "metadata": {
  "kernelspec": {
   "display_name": "Python 3",
   "language": "python",
   "name": "python3"
  },
  "language_info": {
   "codemirror_mode": {
    "name": "ipython",
    "version": 3
   },
   "file_extension": ".py",
   "mimetype": "text/x-python",
   "name": "python",
   "nbconvert_exporter": "python",
   "pygments_lexer": "ipython3",
   "version": "3.6.13"
  }
 },
 "nbformat": 4,
 "nbformat_minor": 5
}
