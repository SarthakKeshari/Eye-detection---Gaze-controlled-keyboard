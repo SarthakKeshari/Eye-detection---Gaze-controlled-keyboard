{
 "cells": [
  {
   "cell_type": "code",
   "execution_count": 1,
   "id": "81da07d7",
   "metadata": {},
   "outputs": [],
   "source": [
    "import cv2\n",
    "import numpy as np"
   ]
  },
  {
   "cell_type": "code",
   "execution_count": 2,
   "id": "51c40128",
   "metadata": {},
   "outputs": [],
   "source": [
    "keyboard = np.zeros((800,1400,3),np.uint8)\n",
    "\n",
    "def letter(x,y,text):\n",
    "    #Keys\n",
    "    width = 200\n",
    "    height = 200\n",
    "    th = 3 #thickness\n",
    "    cv2.rectangle(keyboard,(x+th,y+th),(x+width-th,y+height-th),(255,0,0),th)\n",
    "\n",
    "    # Text settings\n",
    "    font_letter = cv2.FONT_HERSHEY_PLAIN\n",
    "    text = text\n",
    "    font_scale = 10\n",
    "    font_th = 4 #font thinkness\n",
    "    text_size = cv2.getTextSize(text, font_letter, font_scale, font_th)[0]\n",
    "    width_text, height_text = text_size[0],text_size[1]\n",
    "\n",
    "    text_x = int((width-width_text)/2) + x\n",
    "    text_y= int((height+height_text)/2) + y\n",
    "\n",
    "    cv2.putText(keyboard, text,(text_x,text_y),font_letter, font_scale, (255,0,0),font_th)\n",
    "\n",
    "    # print(text_size)\n",
    "\n",
    "a = 0\n",
    "for j in range(4):\n",
    "    for i in range(7):\n",
    "        letter(i*200,j*200,chr(a+65))\n",
    "        a+=1\n",
    "\n",
    "\n",
    "cv2.imshow(\"keyboard\",keyboard)\n",
    "cv2.waitKey(0)\n",
    "cv2.destroyAllWindows()"
   ]
  }
 ],
 "metadata": {
  "kernelspec": {
   "display_name": "Python 3",
   "language": "python",
   "name": "python3"
  },
  "language_info": {
   "codemirror_mode": {
    "name": "ipython",
    "version": 3
   },
   "file_extension": ".py",
   "mimetype": "text/x-python",
   "name": "python",
   "nbconvert_exporter": "python",
   "pygments_lexer": "ipython3",
   "version": "3.6.13"
  }
 },
 "nbformat": 4,
 "nbformat_minor": 5
}
